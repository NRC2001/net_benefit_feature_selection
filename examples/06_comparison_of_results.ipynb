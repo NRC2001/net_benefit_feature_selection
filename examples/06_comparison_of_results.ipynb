{
 "cells": [
  {
   "cell_type": "code",
   "execution_count": 1,
   "metadata": {},
   "outputs": [],
   "source": [
    "import os, sys\n",
    "sys.path.append(os.path.abspath('../utils'))\n",
    "import pandas as pd\n",
    "import pickle"
   ]
  },
  {
   "cell_type": "markdown",
   "metadata": {},
   "source": [
    "# Comparison of results of each of the net benefit feature selection methods"
   ]
  },
  {
   "cell_type": "markdown",
   "metadata": {},
   "source": [
    "Load the results of each of the methods:"
   ]
  },
  {
   "cell_type": "code",
   "execution_count": 2,
   "metadata": {},
   "outputs": [],
   "source": [
    "with open('../data/skl_selection_path.pkl', 'rb') as f:\n",
    "        skl_selection_path = pickle.load(f)\n",
    "\n",
    "with open('../data/forward_selection.pkl', 'rb') as f:\n",
    "        forward_selection = pickle.load(f)\n",
    "\n",
    "with open('../data/backward_selection.pkl', 'rb') as f:\n",
    "        backward_selection = pickle.load(f)\n",
    "\n",
    "with open('../data/backward_selection_pt_0.pkl', 'rb') as f:\n",
    "        backward_selection_pt_0 = pickle.load(f)\n",
    "\n",
    "with open('../data/backward_selection_pt_1.pkl', 'rb') as f:\n",
    "        backward_selection_pt_1 = pickle.load(f)"
   ]
  },
  {
   "cell_type": "markdown",
   "metadata": {},
   "source": [
    "The weighted regularization path method from [03_net_benefit_regularization_method.ipynb](./03_net_benefit_regularization_method.ipynb) selects $\\{x_1, x_3, x_4, x_5 \\}$ by mean net benefit and all features selected at $p_t = 0.2 \\text{ or } 0.8$."
   ]
  },
  {
   "cell_type": "code",
   "execution_count": 3,
   "metadata": {},
   "outputs": [
    {
     "data": {
      "text/html": [
       "<div>\n",
       "<style scoped>\n",
       "    .dataframe tbody tr th:only-of-type {\n",
       "        vertical-align: middle;\n",
       "    }\n",
       "\n",
       "    .dataframe tbody tr th {\n",
       "        vertical-align: top;\n",
       "    }\n",
       "\n",
       "    .dataframe thead th {\n",
       "        text-align: right;\n",
       "    }\n",
       "</style>\n",
       "<table border=\"1\" class=\"dataframe\">\n",
       "  <thead>\n",
       "    <tr style=\"text-align: right;\">\n",
       "      <th></th>\n",
       "      <th>mnb</th>\n",
       "      <th>net_benefit_pt_0</th>\n",
       "      <th>net_benefit_pt_1</th>\n",
       "    </tr>\n",
       "  </thead>\n",
       "  <tbody>\n",
       "    <tr>\n",
       "      <th>x0_used</th>\n",
       "      <td>1.0</td>\n",
       "      <td>1.0</td>\n",
       "      <td>1.0</td>\n",
       "    </tr>\n",
       "    <tr>\n",
       "      <th>x1_used</th>\n",
       "      <td>1.0</td>\n",
       "      <td>1.0</td>\n",
       "      <td>1.0</td>\n",
       "    </tr>\n",
       "    <tr>\n",
       "      <th>x2_used</th>\n",
       "      <td>0.0</td>\n",
       "      <td>1.0</td>\n",
       "      <td>1.0</td>\n",
       "    </tr>\n",
       "    <tr>\n",
       "      <th>x3_used</th>\n",
       "      <td>1.0</td>\n",
       "      <td>1.0</td>\n",
       "      <td>1.0</td>\n",
       "    </tr>\n",
       "    <tr>\n",
       "      <th>x4_used</th>\n",
       "      <td>1.0</td>\n",
       "      <td>1.0</td>\n",
       "      <td>1.0</td>\n",
       "    </tr>\n",
       "  </tbody>\n",
       "</table>\n",
       "</div>"
      ],
      "text/plain": [
       "         mnb  net_benefit_pt_0  net_benefit_pt_1\n",
       "x0_used  1.0               1.0               1.0\n",
       "x1_used  1.0               1.0               1.0\n",
       "x2_used  0.0               1.0               1.0\n",
       "x3_used  1.0               1.0               1.0\n",
       "x4_used  1.0               1.0               1.0"
      ]
     },
     "execution_count": 3,
     "metadata": {},
     "output_type": "execute_result"
    }
   ],
   "source": [
    "pd.DataFrame(skl_selection_path[\"optimal\"]).loc[[\"x0_used\", \"x1_used\", \"x2_used\", \"x3_used\", \"x4_used\"], [\"mnb\", \"net_benefit_pt_0\", \"net_benefit_pt_1\"] ]\n"
   ]
  },
  {
   "cell_type": "markdown",
   "metadata": {},
   "source": [
    "The itterative method similar to forward stepwise selection demonstrated in [04_feature_importance_iterative_method.ipynb](./04_feature_importance_iterative_method.ipynb) selects $\\{ x_1, x_4\\}$:"
   ]
  },
  {
   "cell_type": "code",
   "execution_count": 4,
   "metadata": {},
   "outputs": [
    {
     "data": {
      "text/html": [
       "<div>\n",
       "<style scoped>\n",
       "    .dataframe tbody tr th:only-of-type {\n",
       "        vertical-align: middle;\n",
       "    }\n",
       "\n",
       "    .dataframe tbody tr th {\n",
       "        vertical-align: top;\n",
       "    }\n",
       "\n",
       "    .dataframe thead th {\n",
       "        text-align: right;\n",
       "    }\n",
       "</style>\n",
       "<table border=\"1\" class=\"dataframe\">\n",
       "  <thead>\n",
       "    <tr style=\"text-align: right;\">\n",
       "      <th></th>\n",
       "      <th>features</th>\n",
       "      <th>mnb</th>\n",
       "      <th>net_benefit p_t=0.8</th>\n",
       "      <th>net_benefit p_t=0.2</th>\n",
       "    </tr>\n",
       "  </thead>\n",
       "  <tbody>\n",
       "    <tr>\n",
       "      <th>4</th>\n",
       "      <td>[x1, x4, x3, x0, x2]</td>\n",
       "      <td>0.142756</td>\n",
       "      <td>0.055</td>\n",
       "      <td>0.2575</td>\n",
       "    </tr>\n",
       "    <tr>\n",
       "      <th>3</th>\n",
       "      <td>[x1, x4, x3, x0]</td>\n",
       "      <td>0.172733</td>\n",
       "      <td>0.08</td>\n",
       "      <td>0.28875</td>\n",
       "    </tr>\n",
       "    <tr>\n",
       "      <th>2</th>\n",
       "      <td>[x1, x4, x3]</td>\n",
       "      <td>0.1786</td>\n",
       "      <td>0.09</td>\n",
       "      <td>0.285</td>\n",
       "    </tr>\n",
       "    <tr>\n",
       "      <th>0</th>\n",
       "      <td>[x1]</td>\n",
       "      <td>0.209659</td>\n",
       "      <td>0.03</td>\n",
       "      <td>0.3475</td>\n",
       "    </tr>\n",
       "    <tr>\n",
       "      <th>1</th>\n",
       "      <td>[x1, x4]</td>\n",
       "      <td>0.219324</td>\n",
       "      <td>0.105</td>\n",
       "      <td>0.32375</td>\n",
       "    </tr>\n",
       "  </tbody>\n",
       "</table>\n",
       "</div>"
      ],
      "text/plain": [
       "               features       mnb net_benefit p_t=0.8 net_benefit p_t=0.2\n",
       "4  [x1, x4, x3, x0, x2]  0.142756               0.055              0.2575\n",
       "3      [x1, x4, x3, x0]  0.172733                0.08             0.28875\n",
       "2          [x1, x4, x3]    0.1786                0.09               0.285\n",
       "0                  [x1]  0.209659                0.03              0.3475\n",
       "1              [x1, x4]  0.219324               0.105             0.32375"
      ]
     },
     "execution_count": 4,
     "metadata": {},
     "output_type": "execute_result"
    }
   ],
   "source": [
    "forward_selection.rename(columns = {\"net_benefit_pt_0\": \"net_benefit p_t=0.8\",\n",
    "                                    \"net_benefit_pt_1\": \"net_benefit p_t=0.2\"}).sort_values(\"mnb\")"
   ]
  },
  {
   "cell_type": "markdown",
   "metadata": {},
   "source": [
    "The backward stepwise selection method demonstrated in [05_backward_stepwise_method.ipynb](./05_backward_stepwise_method.ipynb) selects $\\{ x_1, x_4\\}$:"
   ]
  },
  {
   "cell_type": "code",
   "execution_count": 5,
   "metadata": {},
   "outputs": [
    {
     "data": {
      "text/html": [
       "<div>\n",
       "<style scoped>\n",
       "    .dataframe tbody tr th:only-of-type {\n",
       "        vertical-align: middle;\n",
       "    }\n",
       "\n",
       "    .dataframe tbody tr th {\n",
       "        vertical-align: top;\n",
       "    }\n",
       "\n",
       "    .dataframe thead th {\n",
       "        text-align: right;\n",
       "    }\n",
       "</style>\n",
       "<table border=\"1\" class=\"dataframe\">\n",
       "  <thead>\n",
       "    <tr style=\"text-align: right;\">\n",
       "      <th></th>\n",
       "      <th>features</th>\n",
       "      <th>nb</th>\n",
       "    </tr>\n",
       "  </thead>\n",
       "  <tbody>\n",
       "    <tr>\n",
       "      <th>1</th>\n",
       "      <td>[x0, x1, x2, x4]</td>\n",
       "      <td>0.124883</td>\n",
       "    </tr>\n",
       "    <tr>\n",
       "      <th>0</th>\n",
       "      <td>[x0, x1, x2, x3, x4]</td>\n",
       "      <td>0.142756</td>\n",
       "    </tr>\n",
       "    <tr>\n",
       "      <th>2</th>\n",
       "      <td>[x0, x1, x4]</td>\n",
       "      <td>0.180078</td>\n",
       "    </tr>\n",
       "    <tr>\n",
       "      <th>4</th>\n",
       "      <td>[x1]</td>\n",
       "      <td>0.209659</td>\n",
       "    </tr>\n",
       "    <tr>\n",
       "      <th>3</th>\n",
       "      <td>[x1, x4]</td>\n",
       "      <td>0.210887</td>\n",
       "    </tr>\n",
       "  </tbody>\n",
       "</table>\n",
       "</div>"
      ],
      "text/plain": [
       "               features        nb\n",
       "1      [x0, x1, x2, x4]  0.124883\n",
       "0  [x0, x1, x2, x3, x4]  0.142756\n",
       "2          [x0, x1, x4]  0.180078\n",
       "4                  [x1]  0.209659\n",
       "3              [x1, x4]  0.210887"
      ]
     },
     "execution_count": 5,
     "metadata": {},
     "output_type": "execute_result"
    }
   ],
   "source": [
    "# selected based on mean net benefit\n",
    "backward_selection.sort_values(\"nb\")"
   ]
  },
  {
   "cell_type": "code",
   "execution_count": 6,
   "metadata": {},
   "outputs": [
    {
     "data": {
      "text/html": [
       "<div>\n",
       "<style scoped>\n",
       "    .dataframe tbody tr th:only-of-type {\n",
       "        vertical-align: middle;\n",
       "    }\n",
       "\n",
       "    .dataframe tbody tr th {\n",
       "        vertical-align: top;\n",
       "    }\n",
       "\n",
       "    .dataframe thead th {\n",
       "        text-align: right;\n",
       "    }\n",
       "</style>\n",
       "<table border=\"1\" class=\"dataframe\">\n",
       "  <thead>\n",
       "    <tr style=\"text-align: right;\">\n",
       "      <th></th>\n",
       "      <th>features</th>\n",
       "      <th>nb</th>\n",
       "    </tr>\n",
       "  </thead>\n",
       "  <tbody>\n",
       "    <tr>\n",
       "      <th>1</th>\n",
       "      <td>[x0, x1, x3, x4]</td>\n",
       "      <td>-0.09</td>\n",
       "    </tr>\n",
       "    <tr>\n",
       "      <th>2</th>\n",
       "      <td>[x0, x1, x4]</td>\n",
       "      <td>-0.065</td>\n",
       "    </tr>\n",
       "    <tr>\n",
       "      <th>4</th>\n",
       "      <td>[x4]</td>\n",
       "      <td>0.03</td>\n",
       "    </tr>\n",
       "    <tr>\n",
       "      <th>3</th>\n",
       "      <td>[x1, x4]</td>\n",
       "      <td>0.035</td>\n",
       "    </tr>\n",
       "    <tr>\n",
       "      <th>0</th>\n",
       "      <td>[x0, x1, x2, x3, x4]</td>\n",
       "      <td>0.055</td>\n",
       "    </tr>\n",
       "  </tbody>\n",
       "</table>\n",
       "</div>"
      ],
      "text/plain": [
       "               features     nb\n",
       "1      [x0, x1, x3, x4]  -0.09\n",
       "2          [x0, x1, x4] -0.065\n",
       "4                  [x4]   0.03\n",
       "3              [x1, x4]  0.035\n",
       "0  [x0, x1, x2, x3, x4]  0.055"
      ]
     },
     "execution_count": 6,
     "metadata": {},
     "output_type": "execute_result"
    }
   ],
   "source": [
    "# Selected based on a threshold probability of 0.8\n",
    "backward_selection_pt_0.sort_values(\"nb\")"
   ]
  },
  {
   "cell_type": "code",
   "execution_count": 7,
   "metadata": {},
   "outputs": [
    {
     "data": {
      "text/html": [
       "<div>\n",
       "<style scoped>\n",
       "    .dataframe tbody tr th:only-of-type {\n",
       "        vertical-align: middle;\n",
       "    }\n",
       "\n",
       "    .dataframe tbody tr th {\n",
       "        vertical-align: top;\n",
       "    }\n",
       "\n",
       "    .dataframe thead th {\n",
       "        text-align: right;\n",
       "    }\n",
       "</style>\n",
       "<table border=\"1\" class=\"dataframe\">\n",
       "  <thead>\n",
       "    <tr style=\"text-align: right;\">\n",
       "      <th></th>\n",
       "      <th>features</th>\n",
       "      <th>nb</th>\n",
       "    </tr>\n",
       "  </thead>\n",
       "  <tbody>\n",
       "    <tr>\n",
       "      <th>0</th>\n",
       "      <td>[x0, x1, x2, x3, x4]</td>\n",
       "      <td>0.2575</td>\n",
       "    </tr>\n",
       "    <tr>\n",
       "      <th>1</th>\n",
       "      <td>[x0, x1, x2, x4]</td>\n",
       "      <td>0.27875</td>\n",
       "    </tr>\n",
       "    <tr>\n",
       "      <th>4</th>\n",
       "      <td>[x1]</td>\n",
       "      <td>0.29375</td>\n",
       "    </tr>\n",
       "    <tr>\n",
       "      <th>2</th>\n",
       "      <td>[x0, x1, x4]</td>\n",
       "      <td>0.315</td>\n",
       "    </tr>\n",
       "    <tr>\n",
       "      <th>3</th>\n",
       "      <td>[x0, x1]</td>\n",
       "      <td>0.345</td>\n",
       "    </tr>\n",
       "  </tbody>\n",
       "</table>\n",
       "</div>"
      ],
      "text/plain": [
       "               features       nb\n",
       "0  [x0, x1, x2, x3, x4]   0.2575\n",
       "1      [x0, x1, x2, x4]  0.27875\n",
       "4                  [x1]  0.29375\n",
       "2          [x0, x1, x4]    0.315\n",
       "3              [x0, x1]    0.345"
      ]
     },
     "execution_count": 7,
     "metadata": {},
     "output_type": "execute_result"
    }
   ],
   "source": [
    "# Selected based on a threshold probability of 0.2\n",
    "backward_selection_pt_1.sort_values(\"nb\")"
   ]
  },
  {
   "cell_type": "markdown",
   "metadata": {},
   "source": [
    "### Conclusion"
   ]
  },
  {
   "cell_type": "markdown",
   "metadata": {},
   "source": [
    "In the example datasets we have applied the net benefit feature selection methods to, the forward and backward selection procedures, based on mean net benefit, select the same features ($\\{ x_0, x_4\\}$). The weighted LASSO method selects more features (\\{x_0, x_1, x_3, x_4 \\}). We also not that when a specific probability threshold is used as the basis of feature selection then the results are sensitive to the probability threshold."
   ]
  }
 ],
 "metadata": {
  "kernelspec": {
   "display_name": "Python 3",
   "language": "python",
   "name": "python3"
  },
  "language_info": {
   "codemirror_mode": {
    "name": "ipython",
    "version": 3
   },
   "file_extension": ".py",
   "mimetype": "text/x-python",
   "name": "python",
   "nbconvert_exporter": "python",
   "pygments_lexer": "ipython3",
   "version": "3.12.9"
  }
 },
 "nbformat": 4,
 "nbformat_minor": 2
}
