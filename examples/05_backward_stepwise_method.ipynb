{
 "cells": [
  {
   "cell_type": "code",
   "execution_count": 1,
   "metadata": {},
   "outputs": [],
   "source": [
    "import os, sys\n",
    "sys.path.append(os.path.abspath('../utils'))\n",
    "import pandas as pd\n",
    "from sklearn.linear_model import LogisticRegression\n",
    "import dca_fs_tools as dcat\n",
    "import pickle\n",
    "import numpy as np"
   ]
  },
  {
   "cell_type": "markdown",
   "metadata": {},
   "source": [
    "# Backward stepwise selection based on mean net benefit"
   ]
  },
  {
   "cell_type": "markdown",
   "metadata": {},
   "source": [
    "We implement a backward stepwise selection procedure based on net benefit.\n",
    "\n",
    "Features are itteratively removed from the full model with the stopping rule that the model with maximum net benefit (or mean net benefit across all threshold probabilities).\n",
    "\n",
    "This example is based on the scikit learn make_classification synthetic data set described in [00_synthetic_data_description.ipynb](./00_synthetic_data_description.ipynb)."
   ]
  },
  {
   "cell_type": "markdown",
   "metadata": {},
   "source": [
    "Generate the synthetic data set:"
   ]
  },
  {
   "cell_type": "code",
   "execution_count": 2,
   "metadata": {},
   "outputs": [],
   "source": [
    "n_sample = 1000\n",
    "\n",
    "df_train, df_test, ind_var_names = dcat.make_class_dataset(n_sample = n_sample,\n",
    "                                       n_features = 5,\n",
    "                                       n_redundant = 0,\n",
    "                                       random_state = 1001,\n",
    "                                       n_informative = 4,\n",
    "                                       n_clusters_per_class = 1,\n",
    "                                       n_classes = 2)"
   ]
  },
  {
   "cell_type": "markdown",
   "metadata": {},
   "source": [
    "Define the logistic regression model (this could be any type of model)."
   ]
  },
  {
   "cell_type": "code",
   "execution_count": 3,
   "metadata": {},
   "outputs": [],
   "source": [
    "logreg = LogisticRegression(C=10**18)"
   ]
  },
  {
   "cell_type": "markdown",
   "metadata": {},
   "source": [
    "Define a function for performing the backward stepwise selection procedure. The steps are described in code comments:"
   ]
  },
  {
   "cell_type": "code",
   "execution_count": 4,
   "metadata": {},
   "outputs": [],
   "source": [
    "#from statkit.decision import net_benefit\n",
    "#import numpy as np\n",
    "\n",
    "#net_benefit(np.array([1,0,1]), np.array([0.1,0.2,0.3]), thresholds=np.array([0.5]))[1][0]"
   ]
  },
  {
   "cell_type": "code",
   "execution_count": 5,
   "metadata": {},
   "outputs": [],
   "source": [
    "def backward_stepwise_dcafs(train_data, test_data, model, harms_dict, dependent=\"y\", nb_threshold = \"mnb\" ):\n",
    "\n",
    "    features_left = test_harms.keys()\n",
    "\n",
    "    out = pd.DataFrame(columns = [\"features\", \"nb\"])\n",
    "\n",
    "    # Initialize with full model\n",
    "\n",
    "    model.fit(train_data[features_left], train_data[dependent])\n",
    "    pred = model.predict_proba(test_data[features_left])\n",
    "\n",
    "    if nb_threshold == \"mnb\":\n",
    "        nb = dcat.mean_net_benefit(test_data[dependent], pred[:, 1], n_thresh=100)['mnb']\n",
    "    else:\n",
    "        nb = dcat.net_benefit(test_data[dependent], pred[:, 1] , thresholds = np.asarray([nb_threshold]))[1][0]\n",
    "\n",
    "\n",
    "    harm = sum([test_harms[i] for i in features_left]) \n",
    "    nb = nb - harm\n",
    "    out.loc[0] = pd.Series({\"features\": list(features_left), \"nb\": nb})\n",
    "\n",
    "    for n_dropped in range(len(test_harms.keys())-1):\n",
    "        #print(n_dropped)\n",
    "\n",
    "        nb_per_drop = pd.DataFrame(columns = [\"droped_feature\", \"model_features\",\"nb\"])\n",
    "        for i, droped_feature in enumerate(features_left):\n",
    "            #build a model with  the looped feature removed\n",
    "    \n",
    "            model_features = [i for i in features_left if not(i == droped_feature)]\n",
    "\n",
    "            # build a model with the selected features\n",
    "            model.fit(train_data[model_features], train_data[dependent])\n",
    "\n",
    "            ## Make predictions on the test set:\n",
    "            pred = model.predict_proba(test_data[model_features])\n",
    "\n",
    "            # auc\n",
    "            #auc = roc_auc_score(df_test[dependent],pred[:, 1])\n",
    "\n",
    "            # mnb\n",
    "\n",
    "            #nb = dcat.mean_net_benefit(test_data[dependent], pred[:, 1], n_thresh=100)['mnb']\n",
    "\n",
    "            if nb_threshold == \"mnb\":\n",
    "                nb = dcat.mean_net_benefit(test_data[dependent], pred[:, 1], n_thresh=100)['mnb']\n",
    "            else:\n",
    "                nb = dcat.net_benefit(test_data[dependent], pred[:, 1] , thresholds = np.asarray([nb_threshold]))[1][0]\n",
    "\n",
    "\n",
    "            #Include test harms\n",
    "            harm = sum([test_harms[i] for i in model_features]) \n",
    "\n",
    "            nb = nb - harm\n",
    "\n",
    "            nb_per_drop.loc[i] = pd.Series({\"droped_feature\": droped_feature, \"model_features\": model_features, \"nb\": nb})\n",
    "\n",
    "\n",
    "        excluded_feature = nb_per_drop[nb_per_drop['nb']==nb_per_drop['nb'].max()]\n",
    "    \n",
    "        ef = excluded_feature[\"droped_feature\"].to_list()\n",
    "        features_left = [f for f in features_left if not f in ef]\n",
    "        mnb = excluded_feature[\"nb\"].to_list()[0]\n",
    "        out.loc[n_dropped+1] = pd.Series({\"features\": features_left, \"nb\": nb})\n",
    "\n",
    "\n",
    "\n",
    "    return out"
   ]
  },
  {
   "cell_type": "markdown",
   "metadata": {},
   "source": [
    "Run the selection procedure on the synthetic data:"
   ]
  },
  {
   "cell_type": "code",
   "execution_count": 6,
   "metadata": {},
   "outputs": [],
   "source": [
    "test_harms = {\"x0\": 0.0, \"x1\": 0.015, \"x2\": 0.03, \"x3\": 0.045, \"x4\": 0.06 }\n",
    "\n",
    "backward_selection = backward_stepwise_dcafs(df_train, df_test, logreg, test_harms, nb_threshold = \"mnb\")\n",
    "backward_selection_pt_0 = backward_stepwise_dcafs(df_train, df_test, logreg, test_harms, nb_threshold = 0.8)\n",
    "backward_selection_pt_1 = backward_stepwise_dcafs(df_train, df_test, logreg, test_harms, nb_threshold = 0.2)\n",
    "\n",
    "# Save for later comparison to other methods\n",
    "\n",
    "with open('../data/backward_selection.pkl', 'wb') as f:\n",
    "    pickle.dump(backward_selection, f)\n",
    "\n",
    "with open('../data/backward_selection_pt_0.pkl', 'wb') as f:\n",
    "    pickle.dump(backward_selection_pt_0, f)\n",
    "\n",
    "with open('../data/backward_selection_pt_1.pkl', 'wb') as f:\n",
    "    pickle.dump(backward_selection_pt_1, f)"
   ]
  },
  {
   "cell_type": "code",
   "execution_count": null,
   "metadata": {},
   "outputs": [
    {
     "data": {
      "text/html": [
       "<div>\n",
       "<style scoped>\n",
       "    .dataframe tbody tr th:only-of-type {\n",
       "        vertical-align: middle;\n",
       "    }\n",
       "\n",
       "    .dataframe tbody tr th {\n",
       "        vertical-align: top;\n",
       "    }\n",
       "\n",
       "    .dataframe thead th {\n",
       "        text-align: right;\n",
       "    }\n",
       "</style>\n",
       "<table border=\"1\" class=\"dataframe\">\n",
       "  <thead>\n",
       "    <tr style=\"text-align: right;\">\n",
       "      <th></th>\n",
       "      <th>features</th>\n",
       "      <th>nb</th>\n",
       "    </tr>\n",
       "  </thead>\n",
       "  <tbody>\n",
       "    <tr>\n",
       "      <th>0</th>\n",
       "      <td>[x0, x1, x2, x3, x4]</td>\n",
       "      <td>0.142756</td>\n",
       "    </tr>\n",
       "    <tr>\n",
       "      <th>1</th>\n",
       "      <td>[x0, x1, x2, x4]</td>\n",
       "      <td>0.124883</td>\n",
       "    </tr>\n",
       "    <tr>\n",
       "      <th>2</th>\n",
       "      <td>[x0, x1, x4]</td>\n",
       "      <td>0.180078</td>\n",
       "    </tr>\n",
       "    <tr>\n",
       "      <th>3</th>\n",
       "      <td>[x1, x4]</td>\n",
       "      <td>0.210887</td>\n",
       "    </tr>\n",
       "    <tr>\n",
       "      <th>4</th>\n",
       "      <td>[x1]</td>\n",
       "      <td>0.209659</td>\n",
       "    </tr>\n",
       "  </tbody>\n",
       "</table>\n",
       "</div>"
      ],
      "text/plain": [
       "               features        nb\n",
       "0  [x0, x1, x2, x3, x4]  0.142756\n",
       "1      [x0, x1, x2, x4]  0.124883\n",
       "2          [x0, x1, x4]  0.180078\n",
       "3              [x1, x4]  0.210887\n",
       "4                  [x1]  0.209659"
      ]
     },
     "execution_count": 7,
     "metadata": {},
     "output_type": "execute_result"
    }
   ],
   "source": [
    "# selected based on mean net benefit\n",
    "backward_selection"
   ]
  },
  {
   "cell_type": "code",
   "execution_count": null,
   "metadata": {},
   "outputs": [
    {
     "data": {
      "text/html": [
       "<div>\n",
       "<style scoped>\n",
       "    .dataframe tbody tr th:only-of-type {\n",
       "        vertical-align: middle;\n",
       "    }\n",
       "\n",
       "    .dataframe tbody tr th {\n",
       "        vertical-align: top;\n",
       "    }\n",
       "\n",
       "    .dataframe thead th {\n",
       "        text-align: right;\n",
       "    }\n",
       "</style>\n",
       "<table border=\"1\" class=\"dataframe\">\n",
       "  <thead>\n",
       "    <tr style=\"text-align: right;\">\n",
       "      <th></th>\n",
       "      <th>features</th>\n",
       "      <th>nb</th>\n",
       "    </tr>\n",
       "  </thead>\n",
       "  <tbody>\n",
       "    <tr>\n",
       "      <th>0</th>\n",
       "      <td>[x0, x1, x2, x3, x4]</td>\n",
       "      <td>0.055</td>\n",
       "    </tr>\n",
       "    <tr>\n",
       "      <th>1</th>\n",
       "      <td>[x0, x1, x3, x4]</td>\n",
       "      <td>-0.09</td>\n",
       "    </tr>\n",
       "    <tr>\n",
       "      <th>2</th>\n",
       "      <td>[x0, x1, x4]</td>\n",
       "      <td>-0.065</td>\n",
       "    </tr>\n",
       "    <tr>\n",
       "      <th>3</th>\n",
       "      <td>[x1, x4]</td>\n",
       "      <td>0.035</td>\n",
       "    </tr>\n",
       "    <tr>\n",
       "      <th>4</th>\n",
       "      <td>[x4]</td>\n",
       "      <td>0.03</td>\n",
       "    </tr>\n",
       "  </tbody>\n",
       "</table>\n",
       "</div>"
      ],
      "text/plain": [
       "               features     nb\n",
       "0  [x0, x1, x2, x3, x4]  0.055\n",
       "1      [x0, x1, x3, x4]  -0.09\n",
       "2          [x0, x1, x4] -0.065\n",
       "3              [x1, x4]  0.035\n",
       "4                  [x4]   0.03"
      ]
     },
     "execution_count": 8,
     "metadata": {},
     "output_type": "execute_result"
    }
   ],
   "source": [
    "# Selected based on a threshold probability of 0.8\n",
    "backward_selection_pt_0"
   ]
  },
  {
   "cell_type": "code",
   "execution_count": null,
   "metadata": {},
   "outputs": [
    {
     "data": {
      "text/html": [
       "<div>\n",
       "<style scoped>\n",
       "    .dataframe tbody tr th:only-of-type {\n",
       "        vertical-align: middle;\n",
       "    }\n",
       "\n",
       "    .dataframe tbody tr th {\n",
       "        vertical-align: top;\n",
       "    }\n",
       "\n",
       "    .dataframe thead th {\n",
       "        text-align: right;\n",
       "    }\n",
       "</style>\n",
       "<table border=\"1\" class=\"dataframe\">\n",
       "  <thead>\n",
       "    <tr style=\"text-align: right;\">\n",
       "      <th></th>\n",
       "      <th>features</th>\n",
       "      <th>nb</th>\n",
       "    </tr>\n",
       "  </thead>\n",
       "  <tbody>\n",
       "    <tr>\n",
       "      <th>0</th>\n",
       "      <td>[x0, x1, x2, x3, x4]</td>\n",
       "      <td>0.2575</td>\n",
       "    </tr>\n",
       "    <tr>\n",
       "      <th>1</th>\n",
       "      <td>[x0, x1, x2, x4]</td>\n",
       "      <td>0.27875</td>\n",
       "    </tr>\n",
       "    <tr>\n",
       "      <th>2</th>\n",
       "      <td>[x0, x1, x4]</td>\n",
       "      <td>0.315</td>\n",
       "    </tr>\n",
       "    <tr>\n",
       "      <th>3</th>\n",
       "      <td>[x0, x1]</td>\n",
       "      <td>0.345</td>\n",
       "    </tr>\n",
       "    <tr>\n",
       "      <th>4</th>\n",
       "      <td>[x1]</td>\n",
       "      <td>0.29375</td>\n",
       "    </tr>\n",
       "  </tbody>\n",
       "</table>\n",
       "</div>"
      ],
      "text/plain": [
       "               features       nb\n",
       "0  [x0, x1, x2, x3, x4]   0.2575\n",
       "1      [x0, x1, x2, x4]  0.27875\n",
       "2          [x0, x1, x4]    0.315\n",
       "3              [x0, x1]    0.345\n",
       "4                  [x1]  0.29375"
      ]
     },
     "execution_count": 9,
     "metadata": {},
     "output_type": "execute_result"
    }
   ],
   "source": [
    "# Selected based on a threshold probability of 0.2\n",
    "backward_selection_pt_1"
   ]
  },
  {
   "cell_type": "markdown",
   "metadata": {},
   "source": [
    "### Conclusion"
   ]
  },
  {
   "cell_type": "markdown",
   "metadata": {},
   "source": [
    "We see that the maximum net benefit occurs when features $\\{ x1, x4\\}$ are selected by mean net benefit, however when a specific probability threshold is used the results are sensitive to the value of the threshold."
   ]
  }
 ],
 "metadata": {
  "kernelspec": {
   "display_name": "Python 3",
   "language": "python",
   "name": "python3"
  },
  "language_info": {
   "codemirror_mode": {
    "name": "ipython",
    "version": 3
   },
   "file_extension": ".py",
   "mimetype": "text/x-python",
   "name": "python",
   "nbconvert_exporter": "python",
   "pygments_lexer": "ipython3",
   "version": "3.12.9"
  }
 },
 "nbformat": 4,
 "nbformat_minor": 2
}
